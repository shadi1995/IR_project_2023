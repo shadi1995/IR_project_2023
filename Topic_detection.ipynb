{
 "cells": [
  {
   "cell_type": "code",
   "execution_count": 1,
   "id": "3aa5482b",
   "metadata": {},
   "outputs": [],
   "source": [
    "import pandas as pd"
   ]
  },
  {
   "cell_type": "code",
   "execution_count": 2,
   "id": "e98c5e4e",
   "metadata": {},
   "outputs": [],
   "source": [
    "\n",
    "# df = pd.read_csv('C:/Users/T.C.I/.ir_datasets/antique', encoding='utf-8')\n",
    "df=pd.read_csv('C:/Users/ASUSD/.ir_datasets/antique/collection.tsv',sep='\\t')"
   ]
  },
  {
   "cell_type": "code",
   "execution_count": 3,
   "id": "bbc8efbf",
   "metadata": {
    "scrolled": true
   },
   "outputs": [
    {
     "data": {
      "text/plain": [
       "array(['11', '2000', '2020338_0', 'able', 'after', 'and', 'attack',\n",
       "       'attacks', 'basis', 'be', 'believed', 'brutality', 'bush',\n",
       "       'destruction', 'development', 'easy', 'exaggerated', 'fact',\n",
       "       'first', 'george', 'group', 'gulf', 'hussien', 'imagine', 'in',\n",
       "       'invited', 'iraq', 'justify', 'led', 'mass', 'military', 'of',\n",
       "       'on', 'one', 'political', 'politicians', 'power', 'regime',\n",
       "       'relatively', 'remained', 'rest', 'saddam', 'shortly', 'signal',\n",
       "       'small', 'strength', 'strongly', 'taking', 'terrorism',\n",
       "       'terrorist', 'that', 'the', 'them', 'they', 'this', 'threats',\n",
       "       'to', 'use', 'victory', 'war', 'was', 'weakness', 'weapons',\n",
       "       'were', 'with', 'world', 'would'], dtype=object)"
      ]
     },
     "execution_count": 3,
     "metadata": {},
     "output_type": "execute_result"
    }
   ],
   "source": [
    "from sklearn.feature_extraction.text import CountVectorizer\n",
    "from sklearn.feature_extraction.text import TfidfVectorizer\n",
    "\n",
    "count = CountVectorizer(stop_words='english', max_df=0.09, max_features=5000)\n",
    "vectorizer = TfidfVectorizer()\n",
    "X = vectorizer.fit_transform(df)\n",
    "vectorizer.get_feature_names_out()"
   ]
  },
  {
   "cell_type": "code",
   "execution_count": 4,
   "id": "1b1ebb14",
   "metadata": {},
   "outputs": [],
   "source": [
    "from sklearn.decomposition import LatentDirichletAllocation\n",
    "lda = LatentDirichletAllocation(n_components=10,\n",
    "random_state=123, learning_method='batch')\n",
    "X_topics = lda.fit_transform(X)"
   ]
  },
  {
   "cell_type": "code",
   "execution_count": 5,
   "id": "8e354f7f",
   "metadata": {},
   "outputs": [
    {
     "data": {
      "text/plain": [
       "(10, 67)"
      ]
     },
     "execution_count": 5,
     "metadata": {},
     "output_type": "execute_result"
    }
   ],
   "source": [
    "lda.components_.shape"
   ]
  },
  {
   "cell_type": "code",
   "execution_count": 6,
   "id": "afb5a2f4",
   "metadata": {},
   "outputs": [
    {
     "name": "stdout",
     "output_type": "stream",
     "text": [
      "Topic 1:\n",
      "['would', 'first', 'political', 'world', 'mass']\n",
      "Topic 2:\n",
      "['would', 'first', 'political', 'world', 'mass']\n",
      "Topic 3:\n",
      "['would', 'first', 'political', 'world', 'mass']\n",
      "Topic 4:\n",
      "['would', 'first', 'political', 'world', 'mass']\n",
      "Topic 5:\n",
      "['would', 'first', 'political', 'world', 'mass']\n",
      "Topic 6:\n",
      "['2020338_0', 'would', 'fact', 'world', 'mass']\n",
      "Topic 7:\n",
      "['would', 'first', 'political', 'world', 'mass']\n",
      "Topic 8:\n",
      "['would', 'first', 'political', 'world', 'mass']\n",
      "Topic 9:\n",
      "['the', 'of', 'and', 'that', 'to']\n",
      "Topic 10:\n",
      "['would', 'first', 'political', 'world', 'mass']\n"
     ]
    }
   ],
   "source": [
    "n_top_words = 5\n",
    "# feature_names = count.get_feature_names_out()\n",
    "for topic_idx, topic in enumerate(lda.components_):\n",
    "    print(\"Topic %d:\" % (topic_idx + 1))\n",
    "    \n",
    "    print([(vectorizer.get_feature_names_out()[i])\n",
    "                        for i in topic.argsort()[:-n_top_words - 1:-1]]) \n",
    "    \n"
   ]
  },
  {
   "cell_type": "code",
   "execution_count": null,
   "id": "7953b592",
   "metadata": {},
   "outputs": [],
   "source": []
  }
 ],
 "metadata": {
  "kernelspec": {
   "display_name": "Python 3 (ipykernel)",
   "language": "python",
   "name": "python3"
  },
  "language_info": {
   "codemirror_mode": {
    "name": "ipython",
    "version": 3
   },
   "file_extension": ".py",
   "mimetype": "text/x-python",
   "name": "python",
   "nbconvert_exporter": "python",
   "pygments_lexer": "ipython3",
   "version": "3.10.9"
  }
 },
 "nbformat": 4,
 "nbformat_minor": 5
}
